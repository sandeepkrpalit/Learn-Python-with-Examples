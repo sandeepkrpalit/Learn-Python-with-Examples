{
 "cells": [
  {
   "cell_type": "markdown",
   "id": "48348872",
   "metadata": {},
   "source": [
    "## Introduction to Loops"
   ]
  },
  {
   "cell_type": "markdown",
   "id": "a6f4cca0",
   "metadata": {},
   "source": [
    "### for Loop"
   ]
  },
  {
   "cell_type": "code",
   "execution_count": 1,
   "id": "72e2489c",
   "metadata": {},
   "outputs": [
    {
     "data": {
      "text/plain": [
       "range(0, 5)"
      ]
     },
     "execution_count": 1,
     "metadata": {},
     "output_type": "execute_result"
    }
   ],
   "source": [
    "range(5) #Built-in function"
   ]
  },
  {
   "cell_type": "code",
   "execution_count": 2,
   "id": "e00f4076",
   "metadata": {},
   "outputs": [
    {
     "data": {
      "text/plain": [
       "range(1, 5)"
      ]
     },
     "execution_count": 2,
     "metadata": {},
     "output_type": "execute_result"
    }
   ],
   "source": [
    "range(1,5)"
   ]
  },
  {
   "cell_type": "code",
   "execution_count": 6,
   "id": "a927c5c2",
   "metadata": {},
   "outputs": [
    {
     "data": {
      "text/plain": [
       "range(1, 10, 2)"
      ]
     },
     "execution_count": 6,
     "metadata": {},
     "output_type": "execute_result"
    }
   ],
   "source": [
    "range(1,10,2)"
   ]
  },
  {
   "cell_type": "code",
   "execution_count": 7,
   "id": "0be19722",
   "metadata": {},
   "outputs": [
    {
     "name": "stdout",
     "output_type": "stream",
     "text": [
      "0\n",
      "1\n",
      "2\n",
      "3\n",
      "4\n"
     ]
    }
   ],
   "source": [
    "## for loop\n",
    "\n",
    "for i in range(5):\n",
    "    print(i)"
   ]
  },
  {
   "cell_type": "code",
   "execution_count": 10,
   "id": "6bc72880",
   "metadata": {},
   "outputs": [
    {
     "name": "stdout",
     "output_type": "stream",
     "text": [
      "1\n",
      "2\n",
      "3\n",
      "4\n"
     ]
    }
   ],
   "source": [
    "for i in range(1,5):\n",
    "    print(i)"
   ]
  },
  {
   "cell_type": "code",
   "execution_count": 11,
   "id": "40675c3f",
   "metadata": {},
   "outputs": [
    {
     "name": "stdout",
     "output_type": "stream",
     "text": [
      "1\n",
      "3\n",
      "5\n",
      "7\n",
      "9\n"
     ]
    }
   ],
   "source": [
    "for i in range(1,10,2):\n",
    "    print(i)"
   ]
  },
  {
   "cell_type": "code",
   "execution_count": 12,
   "id": "aff0cd6d",
   "metadata": {},
   "outputs": [],
   "source": [
    "for i in range(1,10,-2): # Out of bound\n",
    "    print(i)"
   ]
  },
  {
   "cell_type": "code",
   "execution_count": 14,
   "id": "1640e008",
   "metadata": {},
   "outputs": [
    {
     "name": "stdout",
     "output_type": "stream",
     "text": [
      "10\n",
      "8\n",
      "6\n",
      "4\n",
      "2\n"
     ]
    }
   ],
   "source": [
    "for i in range(10,1,-2):\n",
    "    print(i)"
   ]
  },
  {
   "cell_type": "code",
   "execution_count": 17,
   "id": "a6503dba",
   "metadata": {},
   "outputs": [
    {
     "name": "stdout",
     "output_type": "stream",
     "text": [
      "S\n",
      "a\n",
      "n\n",
      "d\n",
      "e\n",
      "e\n",
      "p\n",
      " \n",
      "P\n",
      "a\n",
      "l\n",
      "i\n",
      "t\n"
     ]
    }
   ],
   "source": [
    "# looping over a string\n",
    "\n",
    "str = \"Sandeep Palit\"\n",
    "\n",
    "for i in str:\n",
    "    print(i)"
   ]
  },
  {
   "cell_type": "markdown",
   "id": "a220f318",
   "metadata": {},
   "source": [
    "### While Loop"
   ]
  },
  {
   "cell_type": "code",
   "execution_count": 18,
   "id": "7122d02a",
   "metadata": {},
   "outputs": [
    {
     "name": "stdout",
     "output_type": "stream",
     "text": [
      "0\n",
      "1\n",
      "2\n",
      "3\n",
      "4\n",
      "5\n",
      "6\n",
      "7\n",
      "8\n",
      "9\n",
      "10\n"
     ]
    }
   ],
   "source": [
    "i = 0\n",
    "\n",
    "while i<=10:\n",
    "    print(i)\n",
    "    i=i+1"
   ]
  },
  {
   "cell_type": "markdown",
   "id": "207626f1",
   "metadata": {},
   "source": [
    "### Loop Control Statement\n",
    "1. break\n",
    "2. continue\n",
    "3. pass"
   ]
  },
  {
   "cell_type": "markdown",
   "id": "a8c8c4c9",
   "metadata": {},
   "source": [
    "#### 1. break statement\n",
    "The break statement exists the loop permaturely."
   ]
  },
  {
   "cell_type": "code",
   "execution_count": 31,
   "id": "e79f9911",
   "metadata": {},
   "outputs": [
    {
     "name": "stdout",
     "output_type": "stream",
     "text": [
      "0\n",
      "1\n",
      "2\n",
      "3\n",
      "4\n"
     ]
    }
   ],
   "source": [
    "for count in range(10):\n",
    "    if count==5:\n",
    "        break\n",
    "    print(count)"
   ]
  },
  {
   "cell_type": "code",
   "execution_count": 32,
   "id": "4e9f06c7",
   "metadata": {},
   "outputs": [],
   "source": [
    "for count in range(10):\n",
    "    if count<=5:\n",
    "        break\n",
    "    print(count) #No Output as condition satisfied at the begining"
   ]
  },
  {
   "cell_type": "markdown",
   "id": "91baf1da",
   "metadata": {},
   "source": [
    "#### 2. continue statement\n",
    "The continue statement skips the current iteration and continues with the next."
   ]
  },
  {
   "cell_type": "code",
   "execution_count": 36,
   "id": "d622a381",
   "metadata": {},
   "outputs": [
    {
     "name": "stdout",
     "output_type": "stream",
     "text": [
      "1\n",
      "3\n",
      "5\n",
      "7\n",
      "9\n"
     ]
    }
   ],
   "source": [
    "#with continue\n",
    "for i in range(10):\n",
    "    if i%2==0:\n",
    "        continue\n",
    "    print(i)"
   ]
  },
  {
   "cell_type": "code",
   "execution_count": 34,
   "id": "736fd87c",
   "metadata": {},
   "outputs": [],
   "source": [
    "#with break\n",
    "for i in range(10):\n",
    "    if i%2==0:\n",
    "        break\n",
    "    print(i) #No output "
   ]
  },
  {
   "cell_type": "markdown",
   "id": "9ea95683",
   "metadata": {},
   "source": [
    "#### 3. pass statement\n",
    "The pass statement is a null operation. It does nothing"
   ]
  },
  {
   "cell_type": "code",
   "execution_count": 39,
   "id": "6ecf21a2",
   "metadata": {},
   "outputs": [
    {
     "name": "stdout",
     "output_type": "stream",
     "text": [
      "0\n",
      "1\n",
      "2\n",
      "3\n",
      "4\n"
     ]
    }
   ],
   "source": [
    "for i in range(5):\n",
    "    if i==3:\n",
    "        pass\n",
    "    print(i)"
   ]
  },
  {
   "cell_type": "code",
   "execution_count": 40,
   "id": "8f8cf804",
   "metadata": {},
   "outputs": [
    {
     "name": "stdout",
     "output_type": "stream",
     "text": [
      "0\n",
      "1\n",
      "2\n"
     ]
    }
   ],
   "source": [
    "for i in range(5):\n",
    "    if i==3:\n",
    "        break\n",
    "    print(i)"
   ]
  },
  {
   "cell_type": "code",
   "execution_count": 41,
   "id": "8d44c9e1",
   "metadata": {},
   "outputs": [
    {
     "name": "stdout",
     "output_type": "stream",
     "text": [
      "0\n",
      "1\n",
      "2\n",
      "4\n"
     ]
    }
   ],
   "source": [
    "for i in range(5):\n",
    "    if i==3:\n",
    "        continue\n",
    "    print(i)"
   ]
  },
  {
   "cell_type": "markdown",
   "id": "0a01264d",
   "metadata": {},
   "source": [
    "#### Nested loops\n",
    "loop inside a loop"
   ]
  },
  {
   "cell_type": "code",
   "execution_count": 42,
   "id": "cedfe5f9",
   "metadata": {},
   "outputs": [
    {
     "name": "stdout",
     "output_type": "stream",
     "text": [
      "i:0 and j:0\n",
      "i:0 and j:1\n",
      "i:0 and j:2\n",
      "i:1 and j:0\n",
      "i:1 and j:1\n",
      "i:1 and j:2\n",
      "i:2 and j:0\n",
      "i:2 and j:1\n",
      "i:2 and j:2\n",
      "i:3 and j:0\n",
      "i:3 and j:1\n",
      "i:3 and j:2\n",
      "i:4 and j:0\n",
      "i:4 and j:1\n",
      "i:4 and j:2\n"
     ]
    }
   ],
   "source": [
    "for i in range(5):\n",
    "    for j in range(3):\n",
    "        print(f\"i:{i} and j:{j}\")"
   ]
  },
  {
   "cell_type": "markdown",
   "id": "9cb2faf2",
   "metadata": {},
   "source": [
    "### Example-1"
   ]
  },
  {
   "cell_type": "code",
   "execution_count": 45,
   "id": "a721f981",
   "metadata": {},
   "outputs": [
    {
     "name": "stdout",
     "output_type": "stream",
     "text": [
      "Sum of first 10 natural numbers: 55\n",
      "Sum of first 10 natural numbers: 55\n"
     ]
    }
   ],
   "source": [
    "# Sum of N natural number using while loop\n",
    "\n",
    "n=10\n",
    "sum=0\n",
    "i=1\n",
    "\n",
    "while i<=n:\n",
    "    sum = sum + i\n",
    "    i = i + 1\n",
    "print(\"Sum of first 10 natural numbers:\", sum)\n",
    "print(f\"Sum of first 10 natural numbers: {sum}\") "
   ]
  },
  {
   "cell_type": "code",
   "execution_count": 48,
   "id": "35c2fa4a",
   "metadata": {},
   "outputs": [
    {
     "name": "stdout",
     "output_type": "stream",
     "text": [
      "Sum of first 10 natural numbers: 55\n"
     ]
    }
   ],
   "source": [
    "# Sum of N natural number using while loop\n",
    "\n",
    "n=10\n",
    "sum=0\n",
    "\n",
    "for i in range(n+1):\n",
    "    sum = sum + i\n",
    "print(f\"Sum of first 10 natural numbers: {sum}\") "
   ]
  },
  {
   "cell_type": "markdown",
   "id": "368f3461",
   "metadata": {},
   "source": [
    "### Example-2"
   ]
  },
  {
   "cell_type": "code",
   "execution_count": 50,
   "id": "f73acc2a",
   "metadata": {},
   "outputs": [
    {
     "name": "stdout",
     "output_type": "stream",
     "text": [
      "2\n",
      "3\n",
      "5\n",
      "7\n",
      "11\n",
      "13\n",
      "17\n",
      "19\n",
      "23\n",
      "29\n",
      "31\n",
      "37\n",
      "41\n",
      "43\n",
      "47\n",
      "53\n",
      "59\n",
      "61\n",
      "67\n",
      "71\n",
      "73\n",
      "79\n",
      "83\n",
      "89\n",
      "97\n"
     ]
    }
   ],
   "source": [
    "# Prime Numbers between 1 and 100\n",
    "\n",
    "for num in range(1,101):\n",
    "    if num>1:\n",
    "        for i in range(2,num):\n",
    "            if num%i==0:\n",
    "                break\n",
    "        else:\n",
    "            print(num)"
   ]
  },
  {
   "cell_type": "markdown",
   "id": "359f869e",
   "metadata": {},
   "source": [
    "### Example-3\n",
    "write a program that prints a 5x5 grid of (*) using nested loops"
   ]
  },
  {
   "cell_type": "code",
   "execution_count": 53,
   "id": "dc792bba",
   "metadata": {},
   "outputs": [
    {
     "name": "stdout",
     "output_type": "stream",
     "text": [
      "* * * * * \n",
      "* * * * * \n",
      "* * * * * \n",
      "* * * * * \n",
      "* * * * * \n"
     ]
    }
   ],
   "source": [
    "for i in range(5):\n",
    "    for j in range(5):\n",
    "        print(\"*\", end = \" \")\n",
    "    print()"
   ]
  },
  {
   "cell_type": "markdown",
   "id": "402020fb",
   "metadata": {},
   "source": [
    "### Example-4\n",
    "write a program that defines an empty function using the pass statement"
   ]
  },
  {
   "cell_type": "code",
   "execution_count": 56,
   "id": "bc5936f0",
   "metadata": {},
   "outputs": [
    {
     "name": "stdout",
     "output_type": "stream",
     "text": [
      "hello\n"
     ]
    }
   ],
   "source": [
    "def empty_function():\n",
    "    pass\n",
    "\n",
    "#Calling the empty function\n",
    "empty_function()"
   ]
  },
  {
   "cell_type": "markdown",
   "id": "a1573ddb",
   "metadata": {},
   "source": [
    "### Example-5 : Factorial Calculation"
   ]
  },
  {
   "cell_type": "code",
   "execution_count": 58,
   "id": "65dc8793",
   "metadata": {},
   "outputs": [
    {
     "name": "stdout",
     "output_type": "stream",
     "text": [
      "The factorial of 5 is 120.\n"
     ]
    }
   ],
   "source": [
    "number = 5\n",
    "fact = 1\n",
    "i = 1\n",
    "\n",
    "while i <= number:\n",
    "    fact = fact * i\n",
    "    i +=1 \n",
    "print(f\"The factorial of {number} is {fact}.\")\n"
   ]
  },
  {
   "cell_type": "markdown",
   "id": "9a96f4ad",
   "metadata": {},
   "source": [
    "### Example-6: Fibonacci Sequence"
   ]
  },
  {
   "cell_type": "code",
   "execution_count": 61,
   "id": "b7eb17d0",
   "metadata": {},
   "outputs": [
    {
     "name": "stdout",
     "output_type": "stream",
     "text": [
      "0\n",
      "1\n",
      "1\n",
      "2\n",
      "3\n",
      "5\n",
      "8\n",
      "13\n",
      "21\n",
      "34\n"
     ]
    }
   ],
   "source": [
    "n=10\n",
    "\n",
    "a,b=0,1\n",
    "\n",
    "count = 0\n",
    "\n",
    "while count < n:\n",
    "    print(a)\n",
    "    a,b = b, a + b\n",
    "    count+=1"
   ]
  },
  {
   "cell_type": "markdown",
   "id": "6ee99ade",
   "metadata": {},
   "source": [
    "### Example-7: Palindrome of a String"
   ]
  },
  {
   "cell_type": "code",
   "execution_count": 97,
   "id": "f75a9a01",
   "metadata": {},
   "outputs": [
    {
     "name": "stdout",
     "output_type": "stream",
     "text": [
      "Enter your choice of word:Madam\n",
      "Not Palindrome\n"
     ]
    }
   ],
   "source": [
    "word=input(\"Enter your choice of word:\")\n",
    "\n",
    "if (word == word[::-1]):\n",
    "    print(\"Palindrome\")\n",
    "else:\n",
    "    print(\"Not Palindrome\")"
   ]
  },
  {
   "cell_type": "code",
   "execution_count": 98,
   "id": "9e8391ad",
   "metadata": {},
   "outputs": [
    {
     "name": "stdout",
     "output_type": "stream",
     "text": [
      "Enter your choice of word:Madam\n",
      "Palindrome\n"
     ]
    }
   ],
   "source": [
    "#Converting the word to lower case before checking the case.\n",
    "word=input(\"Enter your choice of word:\")\n",
    "word = word.lower()\n",
    "\n",
    "if (word == word[::-1]):\n",
    "    print(\"Palindrome\")\n",
    "else:\n",
    "    print(\"Not Palindrome\")\n",
    "    "
   ]
  },
  {
   "cell_type": "code",
   "execution_count": null,
   "id": "b0951e6f",
   "metadata": {},
   "outputs": [],
   "source": []
  }
 ],
 "metadata": {
  "kernelspec": {
   "display_name": "Python 3 (ipykernel)",
   "language": "python",
   "name": "python3"
  },
  "language_info": {
   "codemirror_mode": {
    "name": "ipython",
    "version": 3
   },
   "file_extension": ".py",
   "mimetype": "text/x-python",
   "name": "python",
   "nbconvert_exporter": "python",
   "pygments_lexer": "ipython3",
   "version": "3.11.5"
  }
 },
 "nbformat": 4,
 "nbformat_minor": 5
}
