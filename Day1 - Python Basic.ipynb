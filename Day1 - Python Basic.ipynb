{
 "cells": [
  {
   "cell_type": "markdown",
   "id": "2d02ffe4",
   "metadata": {},
   "source": [
    "## Syntax and Semantics in Python"
   ]
  },
  {
   "cell_type": "code",
   "execution_count": 11,
   "id": "ae972f33",
   "metadata": {},
   "outputs": [
    {
     "name": "stdout",
     "output_type": "stream",
     "text": [
      "Sandeep\n",
      "Palit\n"
     ]
    }
   ],
   "source": [
    "#Case Sensitvity - Python is case sensitive\n",
    "name = \"Sandeep\" #String\n",
    "Name = \"Palit\"\n",
    "\n",
    "print(name)\n",
    "print(Name)"
   ]
  },
  {
   "cell_type": "markdown",
   "id": "159c7710",
   "metadata": {},
   "source": [
    "## Identation\n",
    "Python uses identation to define blocks of code"
   ]
  },
  {
   "cell_type": "code",
   "execution_count": 16,
   "id": "6fa2bb79",
   "metadata": {},
   "outputs": [
    {
     "name": "stdout",
     "output_type": "stream",
     "text": [
      "I am done with the voting!!!!\n"
     ]
    }
   ],
   "source": [
    "age = 15 #Numerical/Integer\n",
    "\n",
    "if age >= 18:\n",
    "    \n",
    "    print(\"Hey, You can vote. Why are you not going to the Booth?\")\n",
    "    \n",
    "print(\"I am done with the voting!!!!\")"
   ]
  },
  {
   "cell_type": "code",
   "execution_count": 19,
   "id": "ed27e263",
   "metadata": {},
   "outputs": [
    {
     "name": "stdout",
     "output_type": "stream",
     "text": [
      "55\n"
     ]
    }
   ],
   "source": [
    "# Line Continuation\n",
    "\n",
    "total =  1+2+3+4+5+6+7+\\\n",
    "8+9+10\n",
    "\n",
    "print(total)"
   ]
  },
  {
   "cell_type": "code",
   "execution_count": 22,
   "id": "4b4019c1",
   "metadata": {},
   "outputs": [
    {
     "name": "stdout",
     "output_type": "stream",
     "text": [
      "15\n"
     ]
    }
   ],
   "source": [
    "#Multiple statements on a mutliple lines\n",
    "x=5\n",
    "y=10\n",
    "z=x+y\n",
    "\n",
    "print(z)"
   ]
  },
  {
   "cell_type": "code",
   "execution_count": 23,
   "id": "10e189b2",
   "metadata": {},
   "outputs": [
    {
     "name": "stdout",
     "output_type": "stream",
     "text": [
      "15\n"
     ]
    }
   ],
   "source": [
    "#Multiple statements on a single line\n",
    "x=5; y=10; z=x+y\n",
    "print(z)"
   ]
  },
  {
   "cell_type": "markdown",
   "id": "d0cb1fca",
   "metadata": {},
   "source": [
    "## Variable Assignment"
   ]
  },
  {
   "cell_type": "code",
   "execution_count": 25,
   "id": "f7b94dd6",
   "metadata": {},
   "outputs": [],
   "source": [
    "age = 18 #age is Integer\n",
    "name = \"Arif\" #Name is string\n",
    "price = 5.57 #price is float"
   ]
  },
  {
   "cell_type": "code",
   "execution_count": 26,
   "id": "24eccd21",
   "metadata": {},
   "outputs": [
    {
     "data": {
      "text/plain": [
       "int"
      ]
     },
     "execution_count": 26,
     "metadata": {},
     "output_type": "execute_result"
    }
   ],
   "source": [
    "type(age)"
   ]
  },
  {
   "cell_type": "code",
   "execution_count": 27,
   "id": "08972703",
   "metadata": {},
   "outputs": [
    {
     "data": {
      "text/plain": [
       "str"
      ]
     },
     "execution_count": 27,
     "metadata": {},
     "output_type": "execute_result"
    }
   ],
   "source": [
    "type(name)"
   ]
  },
  {
   "cell_type": "code",
   "execution_count": 28,
   "id": "8d1330d3",
   "metadata": {},
   "outputs": [
    {
     "data": {
      "text/plain": [
       "float"
      ]
     },
     "execution_count": 28,
     "metadata": {},
     "output_type": "execute_result"
    }
   ],
   "source": [
    "type(price)"
   ]
  },
  {
   "cell_type": "code",
   "execution_count": 29,
   "id": "bc146c9b",
   "metadata": {},
   "outputs": [
    {
     "name": "stdout",
     "output_type": "stream",
     "text": [
      "<class 'int'>\n"
     ]
    }
   ],
   "source": [
    "print(type(age))"
   ]
  },
  {
   "cell_type": "code",
   "execution_count": 39,
   "id": "3c8d5ed7",
   "metadata": {},
   "outputs": [
    {
     "name": "stdout",
     "output_type": "stream",
     "text": [
      "Hallo\n"
     ]
    }
   ],
   "source": [
    "b=\"Hallo\"\n",
    "a=b\n",
    "print(a)"
   ]
  },
  {
   "cell_type": "markdown",
   "id": "d0c04c37",
   "metadata": {},
   "source": [
    "# Variables"
   ]
  },
  {
   "cell_type": "code",
   "execution_count": 40,
   "id": "37c7fcba",
   "metadata": {},
   "outputs": [],
   "source": [
    "#Declaring and Assigning Variables\n",
    "\n",
    "age = 18 #Integer\n",
    "height = 5.5 #Float\n",
    "name = \"Arif\" #String\n",
    "is_student = True #Boolean"
   ]
  },
  {
   "cell_type": "code",
   "execution_count": 41,
   "id": "0932906c",
   "metadata": {},
   "outputs": [
    {
     "data": {
      "text/plain": [
       "bool"
      ]
     },
     "execution_count": 41,
     "metadata": {},
     "output_type": "execute_result"
    }
   ],
   "source": [
    "type(is_student)"
   ]
  },
  {
   "cell_type": "code",
   "execution_count": 46,
   "id": "a820229b",
   "metadata": {},
   "outputs": [
    {
     "name": "stdout",
     "output_type": "stream",
     "text": [
      "Age: 18\n",
      "Height: 5.5\n",
      "Name: Arif\n"
     ]
    }
   ],
   "source": [
    "#Declaring and Assigning Variables\n",
    "\n",
    "age = 18 #Integer\n",
    "height = 5.5 #Float\n",
    "name = \"Arif\" #String\n",
    "is_student = True #Boolean\n",
    "\n",
    "print(\"Age:\",age)\n",
    "print(\"Height:\",height)\n",
    "print(\"Name:\",name)"
   ]
  },
  {
   "cell_type": "code",
   "execution_count": 50,
   "id": "a8aefe8f",
   "metadata": {},
   "outputs": [
    {
     "ename": "SyntaxError",
     "evalue": "invalid decimal literal (1391474825.py, line 9)",
     "output_type": "error",
     "traceback": [
      "\u001b[0;36m  Cell \u001b[0;32mIn[50], line 9\u001b[0;36m\u001b[0m\n\u001b[0;31m    1Name\u001b[0m\n\u001b[0m    ^\u001b[0m\n\u001b[0;31mSyntaxError\u001b[0m\u001b[0;31m:\u001b[0m invalid decimal literal\n"
     ]
    }
   ],
   "source": [
    "#Naming convention\n",
    "\n",
    "#Valid Variable\n",
    "first_name\n",
    "\n",
    "#InValid Variable\n",
    "First@Name\n",
    "First2Name\n",
    "1Name\n",
    "first-name\n",
    "first name"
   ]
  },
  {
   "cell_type": "markdown",
   "id": "580fedf6",
   "metadata": {},
   "source": [
    "## Type checking and conversion"
   ]
  },
  {
   "cell_type": "code",
   "execution_count": 57,
   "id": "2c82c718",
   "metadata": {},
   "outputs": [
    {
     "data": {
      "text/plain": [
       "int"
      ]
     },
     "execution_count": 57,
     "metadata": {},
     "output_type": "execute_result"
    }
   ],
   "source": [
    "price = 5\n",
    "type(price)"
   ]
  },
  {
   "cell_type": "code",
   "execution_count": 58,
   "id": "5e509523",
   "metadata": {},
   "outputs": [
    {
     "data": {
      "text/plain": [
       "float"
      ]
     },
     "execution_count": 58,
     "metadata": {},
     "output_type": "execute_result"
    }
   ],
   "source": [
    "#int to float\n",
    "price = float(price) # 1 way\n",
    "price = 6.5 # Another way\n",
    "type(price)"
   ]
  },
  {
   "cell_type": "markdown",
   "id": "2390666b",
   "metadata": {},
   "source": [
    "## User Input"
   ]
  },
  {
   "cell_type": "code",
   "execution_count": 63,
   "id": "5b402633",
   "metadata": {},
   "outputs": [
    {
     "name": "stdout",
     "output_type": "stream",
     "text": [
      "What is your age?34\n",
      "Hey!!! Do you know you age is  34\n"
     ]
    }
   ],
   "source": [
    "age = int(input(\"What is your age?\"))\n",
    "print(\"Hey!!! Do you know you age is \",age)"
   ]
  },
  {
   "cell_type": "markdown",
   "id": "1ed4d810",
   "metadata": {},
   "source": [
    "### Simple Calculator"
   ]
  },
  {
   "cell_type": "code",
   "execution_count": 65,
   "id": "5e28f443",
   "metadata": {},
   "outputs": [
    {
     "name": "stdout",
     "output_type": "stream",
     "text": [
      "Enter first number: 45.50\n",
      "Enter second number: 5\n",
      "Sum: 50.5\n",
      "Difference: 40.5\n",
      "Product: 227.5\n",
      "Division: 9.1\n"
     ]
    }
   ],
   "source": [
    "num1 = float(input(\"Enter first number: \"))\n",
    "num2 = float(input(\"Enter second number: \"))\n",
    "\n",
    "sum = num1 + num2\n",
    "diff = num1 - num2\n",
    "mul = num1 * num2\n",
    "div = num1 / num2\n",
    "\n",
    "print(\"Sum:\", sum)\n",
    "print(\"Difference:\", diff)\n",
    "print(\"Product:\", mul)\n",
    "print(\"Division:\", div)"
   ]
  },
  {
   "cell_type": "markdown",
   "id": "7e6d353a",
   "metadata": {},
   "source": [
    "## Operators"
   ]
  },
  {
   "cell_type": "markdown",
   "id": "f3e84c9c",
   "metadata": {},
   "source": [
    "### Aritmetic Operator"
   ]
  },
  {
   "cell_type": "code",
   "execution_count": 72,
   "id": "09a3aad5",
   "metadata": {},
   "outputs": [
    {
     "name": "stdout",
     "output_type": "stream",
     "text": [
      "22\n",
      "12\n",
      "85\n",
      "3.4\n",
      "3\n",
      "2\n",
      "1419857\n"
     ]
    }
   ],
   "source": [
    "a = 17\n",
    "b = 5\n",
    "\n",
    "print(a+b) #22\n",
    "print(a-b) #12\n",
    "print(a*b) #85\n",
    "print(a/b) #3.4\n",
    "print(a//b) #3 (quotient) -- floor division\n",
    "print(a%b) #2 (reminder) -- modulus operation\n",
    "print(a**b)"
   ]
  },
  {
   "cell_type": "markdown",
   "id": "a03ab637",
   "metadata": {},
   "source": [
    "### Comparison Operator"
   ]
  },
  {
   "cell_type": "code",
   "execution_count": 75,
   "id": "c5d0705e",
   "metadata": {},
   "outputs": [
    {
     "data": {
      "text/plain": [
       "False"
      ]
     },
     "execution_count": 75,
     "metadata": {},
     "output_type": "execute_result"
    }
   ],
   "source": [
    "#Equal to\n",
    "a=b\n",
    "a==b\n",
    "\n",
    "#Not equal to\n",
    "a!=b"
   ]
  },
  {
   "cell_type": "code",
   "execution_count": 77,
   "id": "6bb2e66b",
   "metadata": {},
   "outputs": [
    {
     "data": {
      "text/plain": [
       "True"
      ]
     },
     "execution_count": 77,
     "metadata": {},
     "output_type": "execute_result"
    }
   ],
   "source": [
    "str1 = \"Arif\"\n",
    "str2 = \"Sandeep\"\n",
    "\n",
    "str1==str2\n",
    "str1!=str2"
   ]
  },
  {
   "cell_type": "code",
   "execution_count": 80,
   "id": "f62fa4a3",
   "metadata": {},
   "outputs": [
    {
     "data": {
      "text/plain": [
       "True"
      ]
     },
     "execution_count": 80,
     "metadata": {},
     "output_type": "execute_result"
    }
   ],
   "source": [
    "# More operators\n",
    "#>,<,>=,<=\n",
    "a>b\n",
    "a<=b"
   ]
  },
  {
   "cell_type": "markdown",
   "id": "05a348e7",
   "metadata": {},
   "source": [
    "### Logical operator"
   ]
  },
  {
   "cell_type": "code",
   "execution_count": 86,
   "id": "b2b22da3",
   "metadata": {},
   "outputs": [
    {
     "data": {
      "text/plain": [
       "False"
      ]
     },
     "execution_count": 86,
     "metadata": {},
     "output_type": "execute_result"
    }
   ],
   "source": [
    "# and, or, not\n",
    "\n",
    "X=True\n",
    "Y=False\n",
    "\n",
    "X and Y # multiple"
   ]
  },
  {
   "cell_type": "code",
   "execution_count": 87,
   "id": "92fa22ba",
   "metadata": {},
   "outputs": [
    {
     "data": {
      "text/plain": [
       "True"
      ]
     },
     "execution_count": 87,
     "metadata": {},
     "output_type": "execute_result"
    }
   ],
   "source": [
    "X or Y # addition"
   ]
  },
  {
   "cell_type": "code",
   "execution_count": 88,
   "id": "e935ed3c",
   "metadata": {},
   "outputs": [
    {
     "data": {
      "text/plain": [
       "True"
      ]
     },
     "execution_count": 88,
     "metadata": {},
     "output_type": "execute_result"
    }
   ],
   "source": [
    "not Y # opposite"
   ]
  },
  {
   "cell_type": "code",
   "execution_count": null,
   "id": "af7e2d16",
   "metadata": {},
   "outputs": [],
   "source": []
  }
 ],
 "metadata": {
  "kernelspec": {
   "display_name": "Python 3 (ipykernel)",
   "language": "python",
   "name": "python3"
  },
  "language_info": {
   "codemirror_mode": {
    "name": "ipython",
    "version": 3
   },
   "file_extension": ".py",
   "mimetype": "text/x-python",
   "name": "python",
   "nbconvert_exporter": "python",
   "pygments_lexer": "ipython3",
   "version": "3.11.5"
  }
 },
 "nbformat": 4,
 "nbformat_minor": 5
}
