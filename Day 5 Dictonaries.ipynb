{
 "cells": [
  {
   "cell_type": "markdown",
   "id": "e656b952",
   "metadata": {},
   "source": [
    " ## What is Dictionaries"
   ]
  },
  {
   "cell_type": "markdown",
   "id": "d2345556",
   "metadata": {},
   "source": [
    "Dictionaries are unordered collections of items. They store data in key-value pairs. Keys must be unique and immutable, while values can be of any type."
   ]
  },
  {
   "cell_type": "markdown",
   "id": "2b05fca6",
   "metadata": {},
   "source": [
    "## Creating a Dictionaries"
   ]
  },
  {
   "cell_type": "code",
   "execution_count": 1,
   "id": "1f97d12b",
   "metadata": {},
   "outputs": [
    {
     "data": {
      "text/plain": [
       "dict"
      ]
     },
     "execution_count": 1,
     "metadata": {},
     "output_type": "execute_result"
    }
   ],
   "source": [
    "dict1 = {}\n",
    "type(dict1)"
   ]
  },
  {
   "cell_type": "code",
   "execution_count": 2,
   "id": "c8f65435",
   "metadata": {},
   "outputs": [
    {
     "data": {
      "text/plain": [
       "dict"
      ]
     },
     "execution_count": 2,
     "metadata": {},
     "output_type": "execute_result"
    }
   ],
   "source": [
    "dict2 = dict()\n",
    "type(dict2)"
   ]
  },
  {
   "cell_type": "code",
   "execution_count": 6,
   "id": "2a315ed2",
   "metadata": {},
   "outputs": [
    {
     "data": {
      "text/plain": [
       "{'name': 'Sandeep', 'sex': 'Male', 'Degree': 'Master', 'Room no': 421}"
      ]
     },
     "execution_count": 6,
     "metadata": {},
     "output_type": "execute_result"
    }
   ],
   "source": [
    "student = {\"name\": \"Sandeep\", \"sex\": \"Male\", \"Degree\" :\"Master\",\"Room no\": 421}\n",
    "student"
   ]
  },
  {
   "cell_type": "code",
   "execution_count": 7,
   "id": "1210f7eb",
   "metadata": {},
   "outputs": [
    {
     "data": {
      "text/plain": [
       "{'name': 'Arif', 'sex': 'Male', 'Degree': 'Master', 'Room no': 421}"
      ]
     },
     "execution_count": 7,
     "metadata": {},
     "output_type": "execute_result"
    }
   ],
   "source": [
    "#Single key is alwayes used\n",
    "student = {\"name\": \"Sandeep\", \"sex\": \"Male\", \"Degree\" :\"Master\",\"Room no\": 421,\"name\":\"Arif\"}\n",
    "student"
   ]
  },
  {
   "cell_type": "code",
   "execution_count": 8,
   "id": "45f6bb2c",
   "metadata": {},
   "outputs": [
    {
     "data": {
      "text/plain": [
       "{'name': 'Sandeep',\n",
       " 'sex': 'Male',\n",
       " 'Degree': 'Master',\n",
       " 'Room no': 421,\n",
       " 'name1': 'Arif'}"
      ]
     },
     "execution_count": 8,
     "metadata": {},
     "output_type": "execute_result"
    }
   ],
   "source": [
    "#Single key is alwayes used\n",
    "student = {\"name\": \"Sandeep\", \"sex\": \"Male\", \"Degree\" :\"Master\",\"Room no\": 421,\"name1\":\"Arif\"}\n",
    "student"
   ]
  },
  {
   "cell_type": "markdown",
   "id": "93b4721a",
   "metadata": {},
   "source": [
    "## Accessing the elements"
   ]
  },
  {
   "cell_type": "code",
   "execution_count": 13,
   "id": "2a2ed82a",
   "metadata": {},
   "outputs": [
    {
     "data": {
      "text/plain": [
       "'Sandeep'"
      ]
     },
     "execution_count": 13,
     "metadata": {},
     "output_type": "execute_result"
    }
   ],
   "source": [
    "student['name']"
   ]
  },
  {
   "cell_type": "code",
   "execution_count": 11,
   "id": "a6d74e58",
   "metadata": {},
   "outputs": [
    {
     "data": {
      "text/plain": [
       "'Master'"
      ]
     },
     "execution_count": 11,
     "metadata": {},
     "output_type": "execute_result"
    }
   ],
   "source": [
    "student['Degree']"
   ]
  },
  {
   "cell_type": "code",
   "execution_count": 14,
   "id": "b5bb6493",
   "metadata": {},
   "outputs": [
    {
     "data": {
      "text/plain": [
       "'Sandeep'"
      ]
     },
     "execution_count": 14,
     "metadata": {},
     "output_type": "execute_result"
    }
   ],
   "source": [
    "# Accessing using get() method\n",
    "\n",
    "student.get('name')"
   ]
  },
  {
   "cell_type": "code",
   "execution_count": 15,
   "id": "2dcd04b5",
   "metadata": {},
   "outputs": [
    {
     "data": {
      "text/plain": [
       "'Male'"
      ]
     },
     "execution_count": 15,
     "metadata": {},
     "output_type": "execute_result"
    }
   ],
   "source": [
    "student.get('sex')"
   ]
  },
  {
   "cell_type": "code",
   "execution_count": 18,
   "id": "18006ce1",
   "metadata": {},
   "outputs": [
    {
     "name": "stdout",
     "output_type": "stream",
     "text": [
      "None\n"
     ]
    }
   ],
   "source": [
    "print(student.get('Age'))"
   ]
  },
  {
   "cell_type": "code",
   "execution_count": 19,
   "id": "cdf0a316",
   "metadata": {},
   "outputs": [
    {
     "name": "stdout",
     "output_type": "stream",
     "text": [
      "Not Available\n"
     ]
    }
   ],
   "source": [
    "print(student.get('Age','Not Available'))"
   ]
  },
  {
   "cell_type": "markdown",
   "id": "e0f10d6c",
   "metadata": {},
   "source": [
    "## Modify the Dictionaries"
   ]
  },
  {
   "cell_type": "markdown",
   "id": "ebfa235d",
   "metadata": {},
   "source": [
    "Dictionary are mutable, so you can add,update or delete elements"
   ]
  },
  {
   "cell_type": "code",
   "execution_count": 20,
   "id": "4a595ee9",
   "metadata": {},
   "outputs": [
    {
     "name": "stdout",
     "output_type": "stream",
     "text": [
      "{'name': 'Arif', 'sex': 'Male', 'Degree': 'Master', 'Room no': 421, 'name1': 'Arif'}\n"
     ]
    }
   ],
   "source": [
    "#Modify the element\n",
    "student[\"name\"]=\"Arif\"\n",
    "print(student)"
   ]
  },
  {
   "cell_type": "code",
   "execution_count": 21,
   "id": "55f61639",
   "metadata": {},
   "outputs": [
    {
     "name": "stdout",
     "output_type": "stream",
     "text": [
      "{'name': 'Arif', 'sex': 'Male', 'Degree': 'Master', 'Room no': 421}\n"
     ]
    }
   ],
   "source": [
    "#Delete the elements\n",
    "del student['name1']\n",
    "print(student)"
   ]
  },
  {
   "cell_type": "code",
   "execution_count": 22,
   "id": "e406f5ec",
   "metadata": {},
   "outputs": [
    {
     "name": "stdout",
     "output_type": "stream",
     "text": [
      "{'name': 'Arif', 'sex': 'Male', 'Degree': 'Master', 'Room no': 421, 'name1': 'Sandeep'}\n"
     ]
    }
   ],
   "source": [
    "#Add the new element\n",
    "student['name1']='Sandeep'\n",
    "print(student)"
   ]
  },
  {
   "cell_type": "markdown",
   "id": "23c1d977",
   "metadata": {},
   "source": [
    "## Dictionary Methods"
   ]
  },
  {
   "cell_type": "code",
   "execution_count": 23,
   "id": "aa02af2c",
   "metadata": {},
   "outputs": [
    {
     "name": "stdout",
     "output_type": "stream",
     "text": [
      "dict_keys(['name', 'sex', 'Degree', 'Room no', 'name1'])\n"
     ]
    }
   ],
   "source": [
    "#Get all the keys\n",
    "\n",
    "keys = student.keys()\n",
    "print(keys)"
   ]
  },
  {
   "cell_type": "code",
   "execution_count": 24,
   "id": "70942579",
   "metadata": {},
   "outputs": [
    {
     "name": "stdout",
     "output_type": "stream",
     "text": [
      "dict_values(['Arif', 'Male', 'Master', 421, 'Sandeep'])\n"
     ]
    }
   ],
   "source": [
    "#Get all the values\n",
    "\n",
    "values = student.values()\n",
    "print(values)"
   ]
  },
  {
   "cell_type": "code",
   "execution_count": 26,
   "id": "5fe23ac0",
   "metadata": {},
   "outputs": [
    {
     "name": "stdout",
     "output_type": "stream",
     "text": [
      "dict_items([('name', 'Arif'), ('sex', 'Male'), ('Degree', 'Master'), ('Room no', 421), ('name1', 'Sandeep')])\n"
     ]
    }
   ],
   "source": [
    "#Get all key value pairs\n",
    "\n",
    "items = student.items()\n",
    "print(items)"
   ]
  },
  {
   "cell_type": "code",
   "execution_count": 27,
   "id": "c0db9ed3",
   "metadata": {},
   "outputs": [
    {
     "name": "stdout",
     "output_type": "stream",
     "text": [
      "{'name': 'Arif', 'sex': 'Male', 'Degree': 'Master', 'Room no': 421, 'name1': 'Sandeep'}\n",
      "{'name': 'Arif', 'sex': 'Male', 'Degree': 'Master', 'Room no': 421, 'name1': 'Sandeep'}\n"
     ]
    }
   ],
   "source": [
    "#Just a copy of the dictionary\n",
    "student_copy = student\n",
    "print(student)\n",
    "print(student_copy)"
   ]
  },
  {
   "cell_type": "code",
   "execution_count": 28,
   "id": "b9646cb6",
   "metadata": {},
   "outputs": [
    {
     "name": "stdout",
     "output_type": "stream",
     "text": [
      "{'name': 'Sandeep', 'sex': 'Male', 'Degree': 'Master', 'Room no': 421, 'name1': 'Sandeep'}\n",
      "{'name': 'Sandeep', 'sex': 'Male', 'Degree': 'Master', 'Room no': 421, 'name1': 'Sandeep'}\n"
     ]
    }
   ],
   "source": [
    "student['name']='Sandeep'\n",
    "print(student)\n",
    "print(student_copy)"
   ]
  },
  {
   "cell_type": "code",
   "execution_count": 34,
   "id": "36c1d89e",
   "metadata": {},
   "outputs": [
    {
     "name": "stdout",
     "output_type": "stream",
     "text": [
      "{'name': 'Arif', 'sex': 'Male', 'Degree': 'Master', 'Room no': 421, 'name1': 'Sandeep'}\n",
      "{'name': 'Arif', 'sex': 'Male', 'Degree': 'Master', 'Room no': 421, 'name1': 'Sandeep'}\n"
     ]
    }
   ],
   "source": [
    "student_copy['name']='Arif'\n",
    "print(student)\n",
    "print(student_copy)"
   ]
  },
  {
   "cell_type": "code",
   "execution_count": 35,
   "id": "651033ac",
   "metadata": {},
   "outputs": [
    {
     "name": "stdout",
     "output_type": "stream",
     "text": [
      "{'name': 'Arif', 'sex': 'Male', 'Degree': 'Master', 'Room no': 421, 'name1': 'Sandeep'}\n",
      "{'name': 'Arif', 'sex': 'Male', 'Degree': 'Master', 'Room no': 421, 'name1': 'Sandeep'}\n"
     ]
    }
   ],
   "source": [
    "#create shallow copy\n",
    "student_copy1 = student.copy() \n",
    "print(student)\n",
    "print(student_copy1)"
   ]
  },
  {
   "cell_type": "code",
   "execution_count": 36,
   "id": "e4a235d0",
   "metadata": {},
   "outputs": [
    {
     "name": "stdout",
     "output_type": "stream",
     "text": [
      "{'name': 'palit', 'sex': 'Male', 'Degree': 'Master', 'Room no': 421, 'name1': 'Sandeep'}\n",
      "{'name': 'Arif', 'sex': 'Male', 'Degree': 'Master', 'Room no': 421, 'name1': 'Sandeep'}\n"
     ]
    }
   ],
   "source": [
    "student['name']='palit'\n",
    "print(student)\n",
    "print(student_copy1)"
   ]
  },
  {
   "cell_type": "code",
   "execution_count": 38,
   "id": "f2d3aa8e",
   "metadata": {},
   "outputs": [
    {
     "name": "stdout",
     "output_type": "stream",
     "text": [
      "{'name': 'palit', 'sex': 'Male', 'Degree': 'Master', 'Room no': 421, 'name1': 'palit'}\n",
      "{'name': 'Arif', 'sex': 'Male', 'Degree': 'Master', 'Room no': 421, 'name1': 'Sandeep'}\n"
     ]
    }
   ],
   "source": [
    "student_copy['name']='palit'\n",
    "print(student)\n",
    "print(student_copy1)"
   ]
  },
  {
   "cell_type": "code",
   "execution_count": 42,
   "id": "e7e7c415",
   "metadata": {},
   "outputs": [
    {
     "name": "stdout",
     "output_type": "stream",
     "text": [
      "{'name': 'palit', 'sex': 'Male', 'Degree': 'Master', 'Room no': 421, 'name1': 'palit'}\n",
      "{'name': 'palit', 'sex': 'Male', 'Degree': 'Master', 'Room no': 421, 'name1': 'palit'}\n"
     ]
    }
   ],
   "source": [
    "#deep copy\n",
    "import copy\n",
    "student_copy2 = copy.deepcopy(student) \n",
    "print(student)\n",
    "print(student_copy2)"
   ]
  },
  {
   "cell_type": "code",
   "execution_count": 43,
   "id": "fd5866b0",
   "metadata": {},
   "outputs": [
    {
     "name": "stdout",
     "output_type": "stream",
     "text": [
      "{'name': 'palit', 'sex': 'Male', 'Degree': 'Master', 'Room no': 421, 'name1': 'palit'}\n",
      "{'name': 'sandeep', 'sex': 'Male', 'Degree': 'Master', 'Room no': 421, 'name1': 'palit'}\n"
     ]
    }
   ],
   "source": [
    "student_copy2['name']='sandeep'\n",
    "print(student)\n",
    "print(student_copy2)"
   ]
  },
  {
   "cell_type": "code",
   "execution_count": 54,
   "id": "4a524204",
   "metadata": {},
   "outputs": [
    {
     "name": "stdout",
     "output_type": "stream",
     "text": [
      "name\n",
      "sex\n",
      "Degree\n",
      "Room no\n",
      "name1\n"
     ]
    }
   ],
   "source": [
    "## Iterate over the key, value pairs\n",
    "\n",
    "for key, value in student.items():\n",
    "    print(key)"
   ]
  },
  {
   "cell_type": "code",
   "execution_count": 55,
   "id": "34f87a51",
   "metadata": {},
   "outputs": [
    {
     "name": "stdout",
     "output_type": "stream",
     "text": [
      "palit\n",
      "Male\n",
      "Master\n",
      "421\n",
      "palit\n"
     ]
    }
   ],
   "source": [
    "for key, value in student.items():\n",
    "    print(value)"
   ]
  },
  {
   "cell_type": "code",
   "execution_count": 59,
   "id": "a7b901df",
   "metadata": {},
   "outputs": [
    {
     "name": "stdout",
     "output_type": "stream",
     "text": [
      "name : palit\n",
      "sex : Male\n",
      "Degree : Master\n",
      "Room no : 421\n",
      "name1 : palit\n"
     ]
    }
   ],
   "source": [
    "for key, value in student.items():\n",
    "    print(f\"{key} : {value}\")"
   ]
  },
  {
   "cell_type": "markdown",
   "id": "6e799f90",
   "metadata": {},
   "source": [
    "## Nested Dictionaries"
   ]
  },
  {
   "cell_type": "code",
   "execution_count": 64,
   "id": "3d0c7159",
   "metadata": {},
   "outputs": [
    {
     "name": "stdout",
     "output_type": "stream",
     "text": [
      "<class 'dict'>\n"
     ]
    }
   ],
   "source": [
    "students = {\n",
    "    \"student1\":{\"name\":\"sandeep\",\"sex\":\"male\"},\n",
    "    \"student2\":{\"name\":\"arif\",\"sex\":\"male\"}\n",
    "}\n",
    "\n",
    "print(type(students))"
   ]
  },
  {
   "cell_type": "code",
   "execution_count": 65,
   "id": "697c77c6",
   "metadata": {},
   "outputs": [
    {
     "name": "stdout",
     "output_type": "stream",
     "text": [
      "{'student1': {'name': 'sandeep', 'sex': 'male'}, 'student2': {'name': 'arif', 'sex': 'male'}}\n"
     ]
    }
   ],
   "source": [
    "print(students)"
   ]
  },
  {
   "cell_type": "code",
   "execution_count": 66,
   "id": "958c1d35",
   "metadata": {},
   "outputs": [
    {
     "data": {
      "text/plain": [
       "'sandeep'"
      ]
     },
     "execution_count": 66,
     "metadata": {},
     "output_type": "execute_result"
    }
   ],
   "source": [
    "## Access the nested dictionaries\n",
    "students[\"student1\"][\"name\"]"
   ]
  },
  {
   "cell_type": "code",
   "execution_count": 67,
   "id": "ec92edeb",
   "metadata": {},
   "outputs": [
    {
     "data": {
      "text/plain": [
       "'arif'"
      ]
     },
     "execution_count": 67,
     "metadata": {},
     "output_type": "execute_result"
    }
   ],
   "source": [
    "students[\"student2\"][\"name\"]"
   ]
  },
  {
   "cell_type": "code",
   "execution_count": 70,
   "id": "6cdd5167",
   "metadata": {},
   "outputs": [
    {
     "name": "stdout",
     "output_type": "stream",
     "text": [
      "sandeep\n",
      "male\n"
     ]
    }
   ],
   "source": [
    "print(students[\"student1\"][\"name\"])\n",
    "print(students[\"student1\"][\"sex\"])"
   ]
  },
  {
   "cell_type": "code",
   "execution_count": 76,
   "id": "83742bfc",
   "metadata": {},
   "outputs": [
    {
     "name": "stdout",
     "output_type": "stream",
     "text": [
      "student_id = student1, student_info = {'name': 'sandeep', 'sex': 'male'}\n",
      "student_id = student2, student_info = {'name': 'arif', 'sex': 'male'}\n"
     ]
    }
   ],
   "source": [
    "##Iterating over nested dictionaries\n",
    "\n",
    "for student_id, student_info in students.items():\n",
    "    print(f\"student_id = {student_id}, student_info = {student_info}\")\n",
    "    "
   ]
  },
  {
   "cell_type": "code",
   "execution_count": 78,
   "id": "398fa466",
   "metadata": {},
   "outputs": [
    {
     "name": "stdout",
     "output_type": "stream",
     "text": [
      "student1:{'name': 'sandeep', 'sex': 'male'}\n",
      "student2:{'name': 'arif', 'sex': 'male'}\n"
     ]
    }
   ],
   "source": [
    "for student_id, student_info in students.items():\n",
    "    print(f\"{student_id}:{student_info}\")"
   ]
  },
  {
   "cell_type": "code",
   "execution_count": 77,
   "id": "2af8fd3d",
   "metadata": {},
   "outputs": [
    {
     "name": "stdout",
     "output_type": "stream",
     "text": [
      "student1:{'name': 'sandeep', 'sex': 'male'}\n",
      "name:sandeep\n",
      "sex:male\n",
      "student2:{'name': 'arif', 'sex': 'male'}\n",
      "name:arif\n",
      "sex:male\n"
     ]
    }
   ],
   "source": [
    "for student_id, student_info in students.items():\n",
    "    print(f\"{student_id}:{student_info}\")\n",
    "    for  key, value in student_info.items():\n",
    "          print(f\"{key}:{value}\")"
   ]
  },
  {
   "cell_type": "markdown",
   "id": "4d33d4b9",
   "metadata": {},
   "source": [
    "## Dictionary Comprehension"
   ]
  },
  {
   "cell_type": "code",
   "execution_count": 79,
   "id": "da55b3e4",
   "metadata": {},
   "outputs": [
    {
     "name": "stdout",
     "output_type": "stream",
     "text": [
      "{0: 0, 1: 1, 2: 4, 3: 9, 4: 16, 5: 25, 6: 36, 7: 49, 8: 64, 9: 81}\n"
     ]
    }
   ],
   "source": [
    "squares = {x:x**2 for x in range(10)}\n",
    "print(squares)"
   ]
  },
  {
   "cell_type": "code",
   "execution_count": 80,
   "id": "9b995b0e",
   "metadata": {},
   "outputs": [
    {
     "name": "stdout",
     "output_type": "stream",
     "text": [
      "{1: 1, 3: 9, 5: 25, 7: 49, 9: 81}\n"
     ]
    }
   ],
   "source": [
    "#Condional dictionary comprehension\n",
    "\n",
    "odds = {x:x**2 for x in range(10) if x%2==1}\n",
    "print(odds)"
   ]
  },
  {
   "cell_type": "code",
   "execution_count": 81,
   "id": "a79af84b",
   "metadata": {},
   "outputs": [
    {
     "name": "stdout",
     "output_type": "stream",
     "text": [
      "{1: 3, 2: 3, 4: 2, 5: 2, 3: 2, 6: 1}\n"
     ]
    }
   ],
   "source": [
    "# count the frequency of elments in the list\n",
    "\n",
    "numbers = [1,1,1,2,2,2,4,5,3,3,4,5,6]\n",
    "frequency = {}\n",
    "\n",
    "for num in numbers:\n",
    "    if num in frequency:\n",
    "        frequency[num]+=1\n",
    "    else:\n",
    "        frequency[num]=1\n",
    "print(frequency)\n"
   ]
  },
  {
   "cell_type": "markdown",
   "id": "021bee42",
   "metadata": {},
   "source": [
    "## Merge 2 dictionaries into one"
   ]
  },
  {
   "cell_type": "code",
   "execution_count": 83,
   "id": "9493519e",
   "metadata": {},
   "outputs": [
    {
     "name": "stdout",
     "output_type": "stream",
     "text": [
      "{'a': 1, 'b': 3, 'c': 4}\n"
     ]
    }
   ],
   "source": [
    "dict1 = {'a': 1, 'b': 2}\n",
    "dict2 = {'b': 3, 'c': 4}\n",
    "\n",
    "merge_dict = {**dict1,**dict2}\n",
    "print(merge_dict)"
   ]
  },
  {
   "cell_type": "code",
   "execution_count": null,
   "id": "667ba7e5",
   "metadata": {},
   "outputs": [],
   "source": []
  }
 ],
 "metadata": {
  "kernelspec": {
   "display_name": "Python 3 (ipykernel)",
   "language": "python",
   "name": "python3"
  },
  "language_info": {
   "codemirror_mode": {
    "name": "ipython",
    "version": 3
   },
   "file_extension": ".py",
   "mimetype": "text/x-python",
   "name": "python",
   "nbconvert_exporter": "python",
   "pygments_lexer": "ipython3",
   "version": "3.11.5"
  }
 },
 "nbformat": 4,
 "nbformat_minor": 5
}
