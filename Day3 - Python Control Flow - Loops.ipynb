{
 "cells": [
  {
   "cell_type": "markdown",
   "id": "291792dd",
   "metadata": {},
   "source": [
    "## Introduction to Loops"
   ]
  },
  {
   "cell_type": "markdown",
   "id": "ef78b0ff",
   "metadata": {},
   "source": [
    "### for Loop"
   ]
  },
  {
   "cell_type": "code",
   "execution_count": 1,
   "id": "514c6c2e",
   "metadata": {},
   "outputs": [
    {
     "data": {
      "text/plain": [
       "range(0, 5)"
      ]
     },
     "execution_count": 1,
     "metadata": {},
     "output_type": "execute_result"
    }
   ],
   "source": [
    "range(5) #Built-in function"
   ]
  },
  {
   "cell_type": "code",
   "execution_count": 2,
   "id": "a2538a92",
   "metadata": {},
   "outputs": [
    {
     "data": {
      "text/plain": [
       "range(1, 5)"
      ]
     },
     "execution_count": 2,
     "metadata": {},
     "output_type": "execute_result"
    }
   ],
   "source": [
    "range(1,5)"
   ]
  },
  {
   "cell_type": "code",
   "execution_count": 6,
   "id": "97f1d333",
   "metadata": {},
   "outputs": [
    {
     "data": {
      "text/plain": [
       "range(1, 10, 2)"
      ]
     },
     "execution_count": 6,
     "metadata": {},
     "output_type": "execute_result"
    }
   ],
   "source": [
    "range(1,10,2)"
   ]
  },
  {
   "cell_type": "code",
   "execution_count": 7,
   "id": "08da4f75",
   "metadata": {},
   "outputs": [
    {
     "name": "stdout",
     "output_type": "stream",
     "text": [
      "0\n",
      "1\n",
      "2\n",
      "3\n",
      "4\n"
     ]
    }
   ],
   "source": [
    "## for loop\n",
    "\n",
    "for i in range(5):\n",
    "    print(i)"
   ]
  },
  {
   "cell_type": "code",
   "execution_count": 10,
   "id": "f9c4f5f7",
   "metadata": {},
   "outputs": [
    {
     "name": "stdout",
     "output_type": "stream",
     "text": [
      "1\n",
      "2\n",
      "3\n",
      "4\n"
     ]
    }
   ],
   "source": [
    "for i in range(1,5):\n",
    "    print(i)"
   ]
  },
  {
   "cell_type": "code",
   "execution_count": 11,
   "id": "08225331",
   "metadata": {},
   "outputs": [
    {
     "name": "stdout",
     "output_type": "stream",
     "text": [
      "1\n",
      "3\n",
      "5\n",
      "7\n",
      "9\n"
     ]
    }
   ],
   "source": [
    "for i in range(1,10,2):\n",
    "    print(i)"
   ]
  },
  {
   "cell_type": "code",
   "execution_count": 12,
   "id": "f10e1121",
   "metadata": {},
   "outputs": [],
   "source": [
    "for i in range(1,10,-2): # Out of bound\n",
    "    print(i)"
   ]
  },
  {
   "cell_type": "code",
   "execution_count": 14,
   "id": "9ada9273",
   "metadata": {},
   "outputs": [
    {
     "name": "stdout",
     "output_type": "stream",
     "text": [
      "10\n",
      "8\n",
      "6\n",
      "4\n",
      "2\n"
     ]
    }
   ],
   "source": [
    "for i in range(10,1,-2):\n",
    "    print(i)"
   ]
  },
  {
   "cell_type": "code",
   "execution_count": 17,
   "id": "b1ac998d",
   "metadata": {},
   "outputs": [
    {
     "name": "stdout",
     "output_type": "stream",
     "text": [
      "S\n",
      "a\n",
      "n\n",
      "d\n",
      "e\n",
      "e\n",
      "p\n",
      " \n",
      "P\n",
      "a\n",
      "l\n",
      "i\n",
      "t\n"
     ]
    }
   ],
   "source": [
    "# looping over a string\n",
    "\n",
    "str = \"Sandeep Palit\"\n",
    "\n",
    "for i in str:\n",
    "    print(i)"
   ]
  },
  {
   "cell_type": "markdown",
   "id": "0edf60db",
   "metadata": {},
   "source": [
    "### While Loop"
   ]
  },
  {
   "cell_type": "code",
   "execution_count": 18,
   "id": "6ba93993",
   "metadata": {},
   "outputs": [
    {
     "name": "stdout",
     "output_type": "stream",
     "text": [
      "0\n",
      "1\n",
      "2\n",
      "3\n",
      "4\n",
      "5\n",
      "6\n",
      "7\n",
      "8\n",
      "9\n",
      "10\n"
     ]
    }
   ],
   "source": [
    "i = 0\n",
    "\n",
    "while i<=10:\n",
    "    print(i)\n",
    "    i=i+1"
   ]
  },
  {
   "cell_type": "markdown",
   "id": "23af46a7",
   "metadata": {},
   "source": [
    "### Loop Control Statement\n",
    "1. break\n",
    "2. continue\n",
    "3. pass"
   ]
  },
  {
   "cell_type": "markdown",
   "id": "4292cc49",
   "metadata": {},
   "source": [
    "#### 1. break statement\n",
    "The break statement exists the loop permaturely."
   ]
  },
  {
   "cell_type": "code",
   "execution_count": 31,
   "id": "391b4fb7",
   "metadata": {},
   "outputs": [
    {
     "name": "stdout",
     "output_type": "stream",
     "text": [
      "0\n",
      "1\n",
      "2\n",
      "3\n",
      "4\n"
     ]
    }
   ],
   "source": [
    "for count in range(10):\n",
    "    if count==5:\n",
    "        break\n",
    "    print(count)"
   ]
  },
  {
   "cell_type": "code",
   "execution_count": 32,
   "id": "6ef94812",
   "metadata": {},
   "outputs": [],
   "source": [
    "for count in range(10):\n",
    "    if count<=5:\n",
    "        break\n",
    "    print(count) #No Output as condition satisfied at the begining"
   ]
  },
  {
   "cell_type": "markdown",
   "id": "f1f3bb03",
   "metadata": {},
   "source": [
    "#### 2. continue statement\n",
    "The continue statement skips the current iteration and continues with the next."
   ]
  },
  {
   "cell_type": "code",
   "execution_count": 36,
   "id": "e4daf921",
   "metadata": {},
   "outputs": [
    {
     "name": "stdout",
     "output_type": "stream",
     "text": [
      "1\n",
      "3\n",
      "5\n",
      "7\n",
      "9\n"
     ]
    }
   ],
   "source": [
    "#with continue\n",
    "for i in range(10):\n",
    "    if i%2==0:\n",
    "        continue\n",
    "    print(i)"
   ]
  },
  {
   "cell_type": "code",
   "execution_count": 34,
   "id": "02a67fdc",
   "metadata": {},
   "outputs": [],
   "source": [
    "#with break\n",
    "for i in range(10):\n",
    "    if i%2==0:\n",
    "        break\n",
    "    print(i) #No output "
   ]
  },
  {
   "cell_type": "markdown",
   "id": "37302140",
   "metadata": {},
   "source": [
    "#### 3. pass statement\n",
    "The pass statement is a null operation. It does nothing"
   ]
  },
  {
   "cell_type": "code",
   "execution_count": 39,
   "id": "bca1182a",
   "metadata": {},
   "outputs": [
    {
     "name": "stdout",
     "output_type": "stream",
     "text": [
      "0\n",
      "1\n",
      "2\n",
      "3\n",
      "4\n"
     ]
    }
   ],
   "source": [
    "for i in range(5):\n",
    "    if i==3:\n",
    "        pass\n",
    "    print(i)"
   ]
  },
  {
   "cell_type": "code",
   "execution_count": 40,
   "id": "0bc4c0f7",
   "metadata": {},
   "outputs": [
    {
     "name": "stdout",
     "output_type": "stream",
     "text": [
      "0\n",
      "1\n",
      "2\n"
     ]
    }
   ],
   "source": [
    "for i in range(5):\n",
    "    if i==3:\n",
    "        break\n",
    "    print(i)"
   ]
  },
  {
   "cell_type": "code",
   "execution_count": 41,
   "id": "45e70a75",
   "metadata": {},
   "outputs": [
    {
     "name": "stdout",
     "output_type": "stream",
     "text": [
      "0\n",
      "1\n",
      "2\n",
      "4\n"
     ]
    }
   ],
   "source": [
    "for i in range(5):\n",
    "    if i==3:\n",
    "        continue\n",
    "    print(i)"
   ]
  },
  {
   "cell_type": "markdown",
   "id": "a3dc7ed5",
   "metadata": {},
   "source": [
    "#### Nested loops\n",
    "loop inside a loop"
   ]
  },
  {
   "cell_type": "code",
   "execution_count": 42,
   "id": "415e6cfd",
   "metadata": {},
   "outputs": [
    {
     "name": "stdout",
     "output_type": "stream",
     "text": [
      "i:0 and j:0\n",
      "i:0 and j:1\n",
      "i:0 and j:2\n",
      "i:1 and j:0\n",
      "i:1 and j:1\n",
      "i:1 and j:2\n",
      "i:2 and j:0\n",
      "i:2 and j:1\n",
      "i:2 and j:2\n",
      "i:3 and j:0\n",
      "i:3 and j:1\n",
      "i:3 and j:2\n",
      "i:4 and j:0\n",
      "i:4 and j:1\n",
      "i:4 and j:2\n"
     ]
    }
   ],
   "source": [
    "for i in range(5):\n",
    "    for j in range(3):\n",
    "        print(f\"i:{i} and j:{j}\")"
   ]
  },
  {
   "cell_type": "markdown",
   "id": "c604fc0f",
   "metadata": {},
   "source": [
    "### Example-1"
   ]
  },
  {
   "cell_type": "code",
   "execution_count": 45,
   "id": "b5b1ead4",
   "metadata": {},
   "outputs": [
    {
     "name": "stdout",
     "output_type": "stream",
     "text": [
      "Sum of first 10 natural numbers: 55\n",
      "Sum of first 10 natural numbers: 55\n"
     ]
    }
   ],
   "source": [
    "# Sum of N natural number using while loop\n",
    "\n",
    "n=10\n",
    "sum=0\n",
    "i=1\n",
    "\n",
    "while i<=n:\n",
    "    sum = sum + i\n",
    "    i = i + 1\n",
    "print(\"Sum of first 10 natural numbers:\", sum)\n",
    "print(f\"Sum of first 10 natural numbers: {sum}\") "
   ]
  },
  {
   "cell_type": "code",
   "execution_count": 48,
   "id": "31677d96",
   "metadata": {},
   "outputs": [
    {
     "name": "stdout",
     "output_type": "stream",
     "text": [
      "Sum of first 10 natural numbers: 55\n"
     ]
    }
   ],
   "source": [
    "# Sum of N natural number using while loop\n",
    "\n",
    "n=10\n",
    "sum=0\n",
    "\n",
    "for i in range(n+1):\n",
    "    sum = sum + i\n",
    "print(f\"Sum of first 10 natural numbers: {sum}\") "
   ]
  },
  {
   "cell_type": "markdown",
   "id": "e1f70bf2",
   "metadata": {},
   "source": [
    "### Example-2"
   ]
  },
  {
   "cell_type": "code",
   "execution_count": 50,
   "id": "82a423d5",
   "metadata": {},
   "outputs": [
    {
     "name": "stdout",
     "output_type": "stream",
     "text": [
      "2\n",
      "3\n",
      "5\n",
      "7\n",
      "11\n",
      "13\n",
      "17\n",
      "19\n",
      "23\n",
      "29\n",
      "31\n",
      "37\n",
      "41\n",
      "43\n",
      "47\n",
      "53\n",
      "59\n",
      "61\n",
      "67\n",
      "71\n",
      "73\n",
      "79\n",
      "83\n",
      "89\n",
      "97\n"
     ]
    }
   ],
   "source": [
    "# Prime Numbers between 1 and 100\n",
    "\n",
    "for num in range(1,101):\n",
    "    if num>1:\n",
    "        for i in range(2,num):\n",
    "            if num%i==0:\n",
    "                break\n",
    "        else:\n",
    "            print(num)"
   ]
  },
  {
   "cell_type": "markdown",
   "id": "06b958bd",
   "metadata": {},
   "source": [
    "### Example-3\n",
    "write a program that prints a 5x5 grid of (*) using nested loops"
   ]
  },
  {
   "cell_type": "code",
   "execution_count": 53,
   "id": "f518ada4",
   "metadata": {},
   "outputs": [
    {
     "name": "stdout",
     "output_type": "stream",
     "text": [
      "* * * * * \n",
      "* * * * * \n",
      "* * * * * \n",
      "* * * * * \n",
      "* * * * * \n"
     ]
    }
   ],
   "source": [
    "for i in range(5):\n",
    "    for j in range(5):\n",
    "        print(\"*\", end = \" \")\n",
    "    print()"
   ]
  },
  {
   "cell_type": "markdown",
   "id": "063c663f",
   "metadata": {},
   "source": [
    "### Example-4\n",
    "write a program that defines an empty function using the pass statement"
   ]
  },
  {
   "cell_type": "code",
   "execution_count": 56,
   "id": "5ed687e6",
   "metadata": {},
   "outputs": [
    {
     "name": "stdout",
     "output_type": "stream",
     "text": [
      "hello\n"
     ]
    }
   ],
   "source": [
    "def empty_function():\n",
    "    pass\n",
    "\n",
    "#Calling the empty function\n",
    "empty_function()"
   ]
  },
  {
   "cell_type": "markdown",
   "id": "c80b7c2d",
   "metadata": {},
   "source": [
    "### Example-5 : Factorial Calculation"
   ]
  },
  {
   "cell_type": "code",
   "execution_count": 58,
   "id": "200bb740",
   "metadata": {},
   "outputs": [
    {
     "name": "stdout",
     "output_type": "stream",
     "text": [
      "The factorial of 5 is 120.\n"
     ]
    }
   ],
   "source": [
    "number = 5\n",
    "fact = 1\n",
    "i = 1\n",
    "\n",
    "while i <= number:\n",
    "    fact = fact * i\n",
    "    i +=1 \n",
    "print(f\"The factorial of {number} is {fact}.\")\n"
   ]
  },
  {
   "cell_type": "markdown",
   "id": "cd0a0f79",
   "metadata": {},
   "source": [
    "### Example-6: Fibonacci Sequence"
   ]
  },
  {
   "cell_type": "code",
   "execution_count": 61,
   "id": "a8887c55",
   "metadata": {},
   "outputs": [
    {
     "name": "stdout",
     "output_type": "stream",
     "text": [
      "0\n",
      "1\n",
      "1\n",
      "2\n",
      "3\n",
      "5\n",
      "8\n",
      "13\n",
      "21\n",
      "34\n"
     ]
    }
   ],
   "source": [
    "n=10\n",
    "\n",
    "a,b=0,1\n",
    "\n",
    "count = 0\n",
    "\n",
    "while count < n:\n",
    "    print(a)\n",
    "    a,b = b, a + b\n",
    "    count+=1"
   ]
  },
  {
   "cell_type": "markdown",
   "id": "2c1e8cda",
   "metadata": {},
   "source": [
    "### Example-7: Palindrome of a String"
   ]
  },
  {
   "cell_type": "code",
   "execution_count": 97,
   "id": "266d62de",
   "metadata": {},
   "outputs": [
    {
     "name": "stdout",
     "output_type": "stream",
     "text": [
      "Enter your choice of word:Madam\n",
      "Not Palindrome\n"
     ]
    }
   ],
   "source": [
    "word=input(\"Enter your choice of word:\")\n",
    "\n",
    "if (word == word[::-1]):\n",
    "    print(\"Palindrome\")\n",
    "else:\n",
    "    print(\"Not Palindrome\")"
   ]
  },
  {
   "cell_type": "code",
   "execution_count": 98,
   "id": "db6b186e",
   "metadata": {},
   "outputs": [
    {
     "name": "stdout",
     "output_type": "stream",
     "text": [
      "Enter your choice of word:Madam\n",
      "Palindrome\n"
     ]
    }
   ],
   "source": [
    "#Converting the word to lower case before checking the case.\n",
    "word=input(\"Enter your choice of word:\")\n",
    "word = word.lower()\n",
    "\n",
    "if (word == word[::-1]):\n",
    "    print(\"Palindrome\")\n",
    "else:\n",
    "    print(\"Not Palindrome\")\n",
    "    "
   ]
  },
  {
   "cell_type": "code",
   "execution_count": null,
   "id": "6765f1af",
   "metadata": {},
   "outputs": [],
   "source": []
  }
 ],
 "metadata": {
  "kernelspec": {
   "display_name": "Python 3 (ipykernel)",
   "language": "python",
   "name": "python3"
  },
  "language_info": {
   "codemirror_mode": {
    "name": "ipython",
    "version": 3
   },
   "file_extension": ".py",
   "mimetype": "text/x-python",
   "name": "python",
   "nbconvert_exporter": "python",
   "pygments_lexer": "ipython3",
   "version": "3.11.5"
  }
 },
 "nbformat": 4,
 "nbformat_minor": 5
}
