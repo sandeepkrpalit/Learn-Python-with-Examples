{
 "cells": [
  {
   "cell_type": "markdown",
   "id": "ceb47bb8",
   "metadata": {},
   "source": [
    "## Conditional Statements (if, elif, else)"
   ]
  },
  {
   "cell_type": "markdown",
   "id": "209cb9f2",
   "metadata": {},
   "source": [
    "### 1. if Statement"
   ]
  },
  {
   "cell_type": "code",
   "execution_count": 3,
   "id": "840f6764",
   "metadata": {},
   "outputs": [
    {
     "name": "stdout",
     "output_type": "stream",
     "text": [
      "Enter your Age:20\n",
      "You are allowed to vote!!!!!\n"
     ]
    }
   ],
   "source": [
    "age = int(input(\"Enter your Age:\"))\n",
    "\n",
    "if age >=18:\n",
    "    print(\"You are allowed to vote!!!!!\")"
   ]
  },
  {
   "cell_type": "markdown",
   "id": "ad44f47d",
   "metadata": {},
   "source": [
    "### 2. else Statement"
   ]
  },
  {
   "cell_type": "code",
   "execution_count": 6,
   "id": "2bd6f74d",
   "metadata": {},
   "outputs": [
    {
     "name": "stdout",
     "output_type": "stream",
     "text": [
      "Enter your Age:15\n",
      "Hey, why are you here, you are minor. Go and play!!!!\n"
     ]
    }
   ],
   "source": [
    "age = int(input(\"Enter your Age:\"))\n",
    "\n",
    "if age >=18:\n",
    "    print(\"You are allowed to vote!!!!!\")\n",
    "else:\n",
    "    print(\"Hey, why are you here, you are minor. Go and play!!!!\")"
   ]
  },
  {
   "cell_type": "markdown",
   "id": "cd622f89",
   "metadata": {},
   "source": [
    "### elif -- Multiple conditions check"
   ]
  },
  {
   "cell_type": "code",
   "execution_count": 12,
   "id": "c92a2e42",
   "metadata": {},
   "outputs": [
    {
     "name": "stdout",
     "output_type": "stream",
     "text": [
      "Enter your Age:1000\n",
      "Go to the Adult section!!!\n"
     ]
    }
   ],
   "source": [
    "age = int(input(\"Enter your Age:\"))\n",
    "\n",
    "if age<=12:\n",
    "    print(\"Go to the child section!!!\")\n",
    "elif age<=18:\n",
    "    print(\"Go to the Teenager section!!!\")\n",
    "else:\n",
    "    print(\"Go to the Adult section!!!\")"
   ]
  },
  {
   "cell_type": "markdown",
   "id": "8bfa3837",
   "metadata": {},
   "source": [
    "### Even or Odd"
   ]
  },
  {
   "cell_type": "code",
   "execution_count": 18,
   "id": "8ea18c04",
   "metadata": {},
   "outputs": [
    {
     "name": "stdout",
     "output_type": "stream",
     "text": [
      "Enter the number:30\n",
      "The number you are carrying is positive... Go Ahead...\n",
      "Go to Even section... Race will start soon!!!!\n"
     ]
    }
   ],
   "source": [
    "num = int(input(\"Enter the number:\"))\n",
    "\n",
    "if num>0:\n",
    "    print(\"The number you are carrying is positive... Go Ahead...\")\n",
    "    if num%2==0:\n",
    "        print(\"Go to Even section... Race will start soon!!!!\")\n",
    "    else:\n",
    "        print(\"Go to Odd section... Race will start soon!!!!\")\n",
    "else:\n",
    "    print(\"The number you are carrying is zero or Negative... you are not allowed...\")"
   ]
  },
  {
   "cell_type": "markdown",
   "id": "752d2428",
   "metadata": {},
   "source": [
    "### Employee Bonus calculation"
   ]
  },
  {
   "cell_type": "code",
   "execution_count": 26,
   "id": "0ed6b231",
   "metadata": {},
   "outputs": [
    {
     "name": "stdout",
     "output_type": "stream",
     "text": [
      "Enter years of service:15\n",
      "Enter your Rating (1.0 to 5.0):4.6\n",
      "Enter current salary: 2345\n",
      "Bonus Amount: $469.00\n",
      "Current month Salary: $2814.00\n"
     ]
    }
   ],
   "source": [
    "#Take user input\n",
    "years_of_service = int(input(\"Enter years of service:\"))\n",
    "performance_rating = float(input(\"Enter your Rating (1.0 to 5.0):\"))\n",
    "\n",
    "#Determine bonus percentage\n",
    "if performance_rating >=4.5:\n",
    "    if years_of_service > 10:\n",
    "        bonus_percentage = 20\n",
    "    elif years_of_service > 5:\n",
    "        bonus_percentage = 15\n",
    "    else:\n",
    "        bonus_percentage = 10\n",
    "        \n",
    "elif performance_rating >=3.5:\n",
    "    if years_of_service > 10:\n",
    "        bonus_percentage = 15\n",
    "    elif years_of_service > 5:\n",
    "        bonus_percentage = 10\n",
    "    else:\n",
    "        bonus_percentage = 5\n",
    "else:\n",
    "    bonus_percentage = 0\n",
    "    \n",
    "#Calculate bonus amount\n",
    "salary = float(input(\"Enter current salary: \"))\n",
    "bonus_amount = salary * bonus_percentage/100\n",
    "\n",
    "total_salary = salary + bonus_amount\n",
    "\n",
    "print(\"Bonus Amount: ${:.2f}\".format(bonus_amount))\n",
    "print(\"Current month Salary: ${:.2f}\".format(total_salary))\n"
   ]
  },
  {
   "cell_type": "markdown",
   "id": "f29c2f9d",
   "metadata": {},
   "source": [
    "### User Login System"
   ]
  },
  {
   "cell_type": "code",
   "execution_count": 29,
   "id": "fcf93b8b",
   "metadata": {},
   "outputs": [
    {
     "name": "stdout",
     "output_type": "stream",
     "text": [
      "Enter username:admin\n",
      "Enter password:password1234\n",
      "Incorrect password...Check again!!! or else miss the party!!!\n"
     ]
    }
   ],
   "source": [
    "#Predefined username and password\n",
    "\n",
    "stored_username = \"admin\"\n",
    "stored_password = \"password123\"\n",
    "\n",
    "#Take user input\n",
    "username = input(\"Enter username:\")\n",
    "password = input(\"Enter password:\")\n",
    "\n",
    "#check login credentials\n",
    "if username == stored_username:\n",
    "    if password ==  stored_password:\n",
    "        print(\"Welcome to the Party!!!!\")\n",
    "    else:\n",
    "        print(\"Incorrect password...Check again!!! or else miss the party!!!\")\n",
    "else:\n",
    "    print(\"Username not found.... You are not allowed to enter at all.... You belong to some other Party!!!\")"
   ]
  },
  {
   "cell_type": "code",
   "execution_count": null,
   "id": "dee06e2f",
   "metadata": {},
   "outputs": [],
   "source": []
  }
 ],
 "metadata": {
  "kernelspec": {
   "display_name": "Python 3 (ipykernel)",
   "language": "python",
   "name": "python3"
  },
  "language_info": {
   "codemirror_mode": {
    "name": "ipython",
    "version": 3
   },
   "file_extension": ".py",
   "mimetype": "text/x-python",
   "name": "python",
   "nbconvert_exporter": "python",
   "pygments_lexer": "ipython3",
   "version": "3.11.5"
  }
 },
 "nbformat": 4,
 "nbformat_minor": 5
}
